{
 "cells": [
  {
   "cell_type": "markdown",
   "id": "5530cdbb",
   "metadata": {},
   "source": [
    "# EDA - COMPAS\n",
    "\n",
    "## Enunciado\n",
    "\n",
    "\n",
    "\n",
    "Cada día es más frecuente la introducción de la ciencia de datos en el ámbito del derecho y la justicia. Un ejemplo bien conocido de ello es el sistema COMPAS (Correctional offender management profiling for alternative sanctions) que se usa en varios estados de los Estados Unidos para hacer una evaluación del riesgo de reincidencia de las personas detenidas. Una breve descripción del sistema puede verse en la página https://en.wikipedia.org/wiki/COMPAS_(software).\n",
    "\n",
    "En este caso, proporciona un conjunto de datos en bruto con información de las evaluaciones (fichero compas-scores.csv) y la historia legal de unos 11.000 casos en los años 2013 y 2014 (se trata de uno de los ficheros originales utilizados en un análisis independiente del sistema COMPAS llevado a cabo por ProPublica, disponible en internet). Aunque el conjunto de datos contiene información adicional, para resolver las cuestiones planteadas en este caso son necesarios (aparte de algunos campos cuyo nombre es autoexplicativo) los siguientes campos:\n",
    "\n",
    "\n",
    "-       “compas_screening_date”>: se refiere a la fecha en la que se realizó la evaluación\n",
    "\n",
    "-      “decile_score”: es un número, de 1 a 10 que indica el riesgo de reincidencia en general (a mayor riesgo, mayor número).\n",
    "\n",
    "-      “v_decile_score”: es un número de 1 a 10, potencialmente distinto del anterior, que indica el riesgo de reincidencia en delitos violentos. Al hacer la evaluación de un caso en COMPAS, se generan las dos puntuaciones (entre otras cosas).\n",
    "\n",
    "-       “is_recid”: indicación de si la persona es reincidente (en el tiempo en que se recogen datos: no hay información de si la persona es reincidente más allá de ciertas fechas, y es importante tener esto en cuenta para asegurarse de hacer comparaciones homogéneas).\n",
    "\n",
    "-       “r_offense_date”: fecha en la que se cometió el delito por el que se considera reincidente a la persona.\n",
    "\n",
    "-       “is_violent_recid”: indicación de si la persona es reincidente en un delito con violencia (las mismas consideraciones sobre fechas que para “is_recid” aplican aquí)\".\n",
    "\n",
    "-       “vr_offense_date”: fecha en la que se cometió el delito violento que da lugar a la consideración de reincidente."
   ]
  },
  {
   "cell_type": "markdown",
   "id": "e99c3d8f",
   "metadata": {},
   "source": [
    "## Se pide\n",
    "\n",
    "1. Cargar los datos y realizar un análisis exploratorio y una evaluación de la calidad de los datos necesarios para el resto del caso. Específicamente, evaluar la integridad, validez y actualidad de los datos y proponer estrategias de mitigación de los posibles problemas encontrados.\n",
    "\n",
    "2. ¿Son los campos “is_recid” e “is_violent_recid” en este conjunto de datos adecuados para evaluar la precisión de las estimaciones de riesgo generadas por el sistema COMPAS? Si no es así, definir y calcular una feature que sí lo sea.\n",
    "\n",
    "\n",
    "3. El umbral para establecer medidas preventivas de la reincidencia es de 7 en adelante. Dado este umbral, generar una tabla de contingencia, explicando qué caso se considera como “positivo” (y, por lo tanto, cuáles son los errores de tipo I y los errores de tipo II).\n",
    "\n",
    "\n",
    "4. El sistema asigna, de media, evaluaciones de riesgo más altas a los hombres que a las mujeres, y a las personas de raza afroamericana que a las de raza caucásica. Sin embargo, también las tasas de reincidencia son más altas para esos colectivos, aunque no está claro que la asignación de riesgo sea “justa” o no. Mostrar estas diferencias mediante representaciones gráficas y utilizarlas para analizar si la asignación de evaluaciones es justa o no.\n",
    "  \n",
    "\n",
    "5. ¿Para qué tipo de riesgos, el de delitos generales o el de delitos violentos, tiene el sistema más capacidad predictiva?"
   ]
  },
  {
   "cell_type": "code",
   "execution_count": 1,
   "id": "16836a90",
   "metadata": {},
   "outputs": [],
   "source": [
    "import pandas as pd\n",
    "import numpy as np\n",
    "from sklearn import datasets\n",
    "import altair as alt\n",
    "\n",
    "import os.path\n",
    "import urllib.request"
   ]
  },
  {
   "cell_type": "code",
   "execution_count": 2,
   "id": "c6fd277b",
   "metadata": {},
   "outputs": [],
   "source": [
    "def cant_nulos (df):\n",
    "    print(\"*CANTIDAD de datos nulos por columna en el dataframe\")\n",
    "    print(df.isnull().sum())\n",
    "    print(\"----------------------------------\")\n",
    "    print(\"*PORCENTAJE de datos nulos por columna en el dataframe\")\n",
    "    print(df.isnull().sum()/len(df)*100)"
   ]
  },
  {
   "cell_type": "code",
   "execution_count": 3,
   "id": "6f94b04c",
   "metadata": {},
   "outputs": [],
   "source": [
    "def describe_columna(df, col):\n",
    "    print(f'Columna: {col}  -  Tipo de datos: {df[col].dtype}')\n",
    "    print(f'Número de valores nulos: {df[col].isnull().sum()}  -  Número de valores distintos: {df[col].nunique()}')\n",
    "    print('Valores más frecuentes:')\n",
    "    for i, v in df[col].value_counts().iloc[:200].items() :\n",
    "        print(i, '\\t', v)"
   ]
  },
  {
   "cell_type": "code",
   "execution_count": 4,
   "id": "bf27c3f8",
   "metadata": {},
   "outputs": [],
   "source": [
    "def val_uniques (df):\n",
    "    headers = df.keys().tolist()\n",
    "    print(\"LISTA DE VALORES ÚNICOS\")\n",
    "    print(\"==================================\")\n",
    "    for col in headers:\n",
    "        print(col)\n",
    "        print(\"----------------------------------\")\n",
    "        uniques = df[col].unique().tolist()\n",
    "        for val in uniques:\n",
    "            print(val)\n",
    "        print(\"----------------------------------\")"
   ]
  },
  {
   "cell_type": "markdown",
   "id": "05be5955",
   "metadata": {
    "tags": []
   },
   "source": [
    "## 1. Cargar los datos y realizar un análisis exploratorio y una evaluación de la calidad de los datos necesarios para el resto del caso. Específicamente, evaluar la integridad, validez y actualidad de los datos y proponer estrategias de mitigación de los posibles problemas encontrados."
   ]
  },
  {
   "cell_type": "markdown",
   "id": "555b8567",
   "metadata": {},
   "source": [
    "### 1.1 Cargamos los datos"
   ]
  },
  {
   "cell_type": "code",
   "execution_count": 5,
   "id": "f0e0295d",
   "metadata": {},
   "outputs": [
    {
     "name": "stdout",
     "output_type": "stream",
     "text": [
      "Files in 'C:\\\\Users\\\\Usuario\\\\Desktop\\\\CARLETES\\\\PROYECTOS_PERSONALES\\\\Portfolio_DataScience_ML_DL': ['.idea', '.ipynb_checkpoints', '.venv', '.virtual_documents', '0_Data', 'Aprendizaje automático (ML)', 'Bandido Multibrazo-Optimización Campaña de Marketing Online.ipynb', 'Ciencia de datos', 'Clasificación Supervisada-Predicción de Absentismo Laboral.ipynb', 'Clustering kmeans con PCA-Clientes Mayoristas.ipynb', 'EDA_COMPAS.ipynb', 'IA en la empresa', 'Regresión Logística, Árboles de Decisión y Redes Neuronales-Clasificación de Clientes.ipynb', 'Storytelling', 'Storytelling-Facturación Total por Cliente en VALTEL.ipynb', 'Web Scarpping']\n"
     ]
    }
   ],
   "source": [
    "# Vamos a comprobar el directorio en el que estamos trabajando\n",
    "\n",
    "cwd = os.getcwd()  # Get the current working directory (cwd)\n",
    "files = os.listdir(cwd)  # Get all the files in that directory\n",
    "print(\"Files in %r: %s\" % (cwd, files))"
   ]
  },
  {
   "cell_type": "code",
   "execution_count": 6,
   "id": "65087118",
   "metadata": {},
   "outputs": [
    {
     "name": "stdout",
     "output_type": "stream",
     "text": [
      "id,name,first,last,compas_screening_date,sex,dob,age,age_cat,race,juv_fel_count,decile_score,juv_misd_count,juv_other_count,priors_count,days_b_screening_arrest,c_jail_in,c_jail_out,c_case_number,c_offense_date,c_arrest_date,c_days_from_compas,c_charge_degree,c_charge_desc,is_recid,num_r_cases,r_case_number,r_charge_degree,r_days_from_arrest,r_offense_date,r_charge_desc,r_jail_in,r_jail_out,is_violent_recid,num_vr_cases,vr_case_number,vr_charge_degree,vr_offense_date,vr_charge_desc,v_type_of_assessment,v_decile_score,v_score_text,v_screening_date,type_of_assessment,decile_score,score_text,screening_date\n",
      "\n",
      "1,miguel hernandez,miguel,hernandez,2013-08-14,Male,1947-04-18,69,Greater than 45,Other,0,1,0,0,0,-1,2013-08-13 06:03:42,2013-08-14 05:41:20,13011352CF10A,2013-08-13,,1,F,Aggravated Assault w/Firearm,0,,,O,,,,,,0,,,,,,Risk of Violence,1,Low,2013-08-14,Risk of Recidivism,1,Low,2013-08-14\n",
      "\n",
      "2,michael ryan,michael,ryan,2014-12-31,Male,1985-02-06,31,25 - 45,Caucasian,0,5,0,0,0,,,,,,,,O,,-1,,,O,,,,,,0,,,,,,Risk of Violence,2,Low,2014-12-31,Risk of Recidivism,5,Medium,2014-12-31\n",
      "\n",
      "3,kevon dixon,kevon,dixon,2013-01-27,Male,1982-01-22,34,25 - 45,African-American,0,3,0,0,0,-1,2013-01-26 03:45:27,2013-02-05 05:36:53,13001275CF10A,2013-01-26,,1,F,Felony Battery w/Prior Convict,1,,13009779CF10A,F,,2013-07-05,Felony Battery (Dom Strang),,,1,,13009779CF10A,(F3),2013-07-05,Felony Battery (Dom Strang),Risk of Violence,1,Low,2013-01-27,Risk of Recidivism,3,Low,2013-01-27\n",
      "\n",
      "4,ed philo,ed,philo,2013-04-14,Male,1991-05-14,24,Less than 25,African-American,0,4,0,1,4,-1,2013-04-13 04:58:34,2013-04-14 07:02:04,13005330CF10A,2013-04-13,,1,F,Possession of Cocaine,1,,13011511MM10A,M,0,2013-06-16,Driving Under The Influence,2013-06-16,2013-06-16,0,,,,,,Risk of Violence,3,Low,2013-04-14,Risk of Recidivism,4,Low,2013-04-14\n",
      "\n"
     ]
    }
   ],
   "source": [
    "# Realizamos una breve lectura del csv de las primeras 5 líneas, para adquirir info como el tipo de separador del archivo\n",
    "\n",
    "with open(\"./0_Data/compas-scores.csv\", encoding = 'latin1') as f:\n",
    "    for _ in range(5) : print(f.readline())"
   ]
  },
  {
   "cell_type": "code",
   "execution_count": 7,
   "id": "402618d3",
   "metadata": {},
   "outputs": [
    {
     "data": {
      "text/html": [
       "<div>\n",
       "<style scoped>\n",
       "    .dataframe tbody tr th:only-of-type {\n",
       "        vertical-align: middle;\n",
       "    }\n",
       "\n",
       "    .dataframe tbody tr th {\n",
       "        vertical-align: top;\n",
       "    }\n",
       "\n",
       "    .dataframe thead th {\n",
       "        text-align: right;\n",
       "    }\n",
       "</style>\n",
       "<table border=\"1\" class=\"dataframe\">\n",
       "  <thead>\n",
       "    <tr style=\"text-align: right;\">\n",
       "      <th></th>\n",
       "      <th>id</th>\n",
       "      <th>name</th>\n",
       "      <th>first</th>\n",
       "      <th>last</th>\n",
       "      <th>compas_screening_date</th>\n",
       "      <th>sex</th>\n",
       "      <th>dob</th>\n",
       "      <th>age</th>\n",
       "      <th>age_cat</th>\n",
       "      <th>race</th>\n",
       "      <th>...</th>\n",
       "      <th>vr_offense_date</th>\n",
       "      <th>vr_charge_desc</th>\n",
       "      <th>v_type_of_assessment</th>\n",
       "      <th>v_decile_score</th>\n",
       "      <th>v_score_text</th>\n",
       "      <th>v_screening_date</th>\n",
       "      <th>type_of_assessment</th>\n",
       "      <th>decile_score.1</th>\n",
       "      <th>score_text</th>\n",
       "      <th>screening_date</th>\n",
       "    </tr>\n",
       "  </thead>\n",
       "  <tbody>\n",
       "    <tr>\n",
       "      <th>0</th>\n",
       "      <td>1</td>\n",
       "      <td>miguel hernandez</td>\n",
       "      <td>miguel</td>\n",
       "      <td>hernandez</td>\n",
       "      <td>2013-08-14</td>\n",
       "      <td>Male</td>\n",
       "      <td>1947-04-18</td>\n",
       "      <td>69</td>\n",
       "      <td>Greater than 45</td>\n",
       "      <td>Other</td>\n",
       "      <td>...</td>\n",
       "      <td>NaN</td>\n",
       "      <td>NaN</td>\n",
       "      <td>Risk of Violence</td>\n",
       "      <td>1</td>\n",
       "      <td>Low</td>\n",
       "      <td>2013-08-14</td>\n",
       "      <td>Risk of Recidivism</td>\n",
       "      <td>1</td>\n",
       "      <td>Low</td>\n",
       "      <td>2013-08-14</td>\n",
       "    </tr>\n",
       "    <tr>\n",
       "      <th>1</th>\n",
       "      <td>2</td>\n",
       "      <td>michael ryan</td>\n",
       "      <td>michael</td>\n",
       "      <td>ryan</td>\n",
       "      <td>2014-12-31</td>\n",
       "      <td>Male</td>\n",
       "      <td>1985-02-06</td>\n",
       "      <td>31</td>\n",
       "      <td>25 - 45</td>\n",
       "      <td>Caucasian</td>\n",
       "      <td>...</td>\n",
       "      <td>NaN</td>\n",
       "      <td>NaN</td>\n",
       "      <td>Risk of Violence</td>\n",
       "      <td>2</td>\n",
       "      <td>Low</td>\n",
       "      <td>2014-12-31</td>\n",
       "      <td>Risk of Recidivism</td>\n",
       "      <td>5</td>\n",
       "      <td>Medium</td>\n",
       "      <td>2014-12-31</td>\n",
       "    </tr>\n",
       "    <tr>\n",
       "      <th>2</th>\n",
       "      <td>3</td>\n",
       "      <td>kevon dixon</td>\n",
       "      <td>kevon</td>\n",
       "      <td>dixon</td>\n",
       "      <td>2013-01-27</td>\n",
       "      <td>Male</td>\n",
       "      <td>1982-01-22</td>\n",
       "      <td>34</td>\n",
       "      <td>25 - 45</td>\n",
       "      <td>African-American</td>\n",
       "      <td>...</td>\n",
       "      <td>2013-07-05</td>\n",
       "      <td>Felony Battery (Dom Strang)</td>\n",
       "      <td>Risk of Violence</td>\n",
       "      <td>1</td>\n",
       "      <td>Low</td>\n",
       "      <td>2013-01-27</td>\n",
       "      <td>Risk of Recidivism</td>\n",
       "      <td>3</td>\n",
       "      <td>Low</td>\n",
       "      <td>2013-01-27</td>\n",
       "    </tr>\n",
       "    <tr>\n",
       "      <th>3</th>\n",
       "      <td>4</td>\n",
       "      <td>ed philo</td>\n",
       "      <td>ed</td>\n",
       "      <td>philo</td>\n",
       "      <td>2013-04-14</td>\n",
       "      <td>Male</td>\n",
       "      <td>1991-05-14</td>\n",
       "      <td>24</td>\n",
       "      <td>Less than 25</td>\n",
       "      <td>African-American</td>\n",
       "      <td>...</td>\n",
       "      <td>NaN</td>\n",
       "      <td>NaN</td>\n",
       "      <td>Risk of Violence</td>\n",
       "      <td>3</td>\n",
       "      <td>Low</td>\n",
       "      <td>2013-04-14</td>\n",
       "      <td>Risk of Recidivism</td>\n",
       "      <td>4</td>\n",
       "      <td>Low</td>\n",
       "      <td>2013-04-14</td>\n",
       "    </tr>\n",
       "    <tr>\n",
       "      <th>4</th>\n",
       "      <td>5</td>\n",
       "      <td>marcu brown</td>\n",
       "      <td>marcu</td>\n",
       "      <td>brown</td>\n",
       "      <td>2013-01-13</td>\n",
       "      <td>Male</td>\n",
       "      <td>1993-01-21</td>\n",
       "      <td>23</td>\n",
       "      <td>Less than 25</td>\n",
       "      <td>African-American</td>\n",
       "      <td>...</td>\n",
       "      <td>NaN</td>\n",
       "      <td>NaN</td>\n",
       "      <td>Risk of Violence</td>\n",
       "      <td>6</td>\n",
       "      <td>Medium</td>\n",
       "      <td>2013-01-13</td>\n",
       "      <td>Risk of Recidivism</td>\n",
       "      <td>8</td>\n",
       "      <td>High</td>\n",
       "      <td>2013-01-13</td>\n",
       "    </tr>\n",
       "  </tbody>\n",
       "</table>\n",
       "<p>5 rows × 47 columns</p>\n",
       "</div>"
      ],
      "text/plain": [
       "   id              name    first       last compas_screening_date   sex  \\\n",
       "0   1  miguel hernandez   miguel  hernandez            2013-08-14  Male   \n",
       "1   2      michael ryan  michael       ryan            2014-12-31  Male   \n",
       "2   3       kevon dixon    kevon      dixon            2013-01-27  Male   \n",
       "3   4          ed philo       ed      philo            2013-04-14  Male   \n",
       "4   5       marcu brown    marcu      brown            2013-01-13  Male   \n",
       "\n",
       "          dob  age          age_cat              race  ...  vr_offense_date  \\\n",
       "0  1947-04-18   69  Greater than 45             Other  ...              NaN   \n",
       "1  1985-02-06   31          25 - 45         Caucasian  ...              NaN   \n",
       "2  1982-01-22   34          25 - 45  African-American  ...       2013-07-05   \n",
       "3  1991-05-14   24     Less than 25  African-American  ...              NaN   \n",
       "4  1993-01-21   23     Less than 25  African-American  ...              NaN   \n",
       "\n",
       "                vr_charge_desc  v_type_of_assessment  v_decile_score  \\\n",
       "0                          NaN      Risk of Violence               1   \n",
       "1                          NaN      Risk of Violence               2   \n",
       "2  Felony Battery (Dom Strang)      Risk of Violence               1   \n",
       "3                          NaN      Risk of Violence               3   \n",
       "4                          NaN      Risk of Violence               6   \n",
       "\n",
       "   v_score_text  v_screening_date  type_of_assessment decile_score.1  \\\n",
       "0           Low        2013-08-14  Risk of Recidivism              1   \n",
       "1           Low        2014-12-31  Risk of Recidivism              5   \n",
       "2           Low        2013-01-27  Risk of Recidivism              3   \n",
       "3           Low        2013-04-14  Risk of Recidivism              4   \n",
       "4        Medium        2013-01-13  Risk of Recidivism              8   \n",
       "\n",
       "  score_text screening_date  \n",
       "0        Low     2013-08-14  \n",
       "1     Medium     2014-12-31  \n",
       "2        Low     2013-01-27  \n",
       "3        Low     2013-04-14  \n",
       "4       High     2013-01-13  \n",
       "\n",
       "[5 rows x 47 columns]"
      ]
     },
     "execution_count": 7,
     "metadata": {},
     "output_type": "execute_result"
    }
   ],
   "source": [
    "# Creamos un DataFrame con los datos del csv\n",
    "\n",
    "df_compas = pd.read_csv(\"./0_Data/compas-scores.csv\")\n",
    "df_compas.shape\n",
    "\n",
    "df_compas.head()"
   ]
  },
  {
   "cell_type": "code",
   "execution_count": 8,
   "id": "518f9ee3",
   "metadata": {},
   "outputs": [
    {
     "data": {
      "text/plain": [
       "{'id': {0: 1, 1: 2, 2: 3},\n",
       " 'name': {0: 'miguel hernandez', 1: 'michael ryan', 2: 'kevon dixon'},\n",
       " 'first': {0: 'miguel', 1: 'michael', 2: 'kevon'},\n",
       " 'last': {0: 'hernandez', 1: 'ryan', 2: 'dixon'},\n",
       " 'compas_screening_date': {0: '2013-08-14', 1: '2014-12-31', 2: '2013-01-27'},\n",
       " 'sex': {0: 'Male', 1: 'Male', 2: 'Male'},\n",
       " 'dob': {0: '1947-04-18', 1: '1985-02-06', 2: '1982-01-22'},\n",
       " 'age': {0: 69, 1: 31, 2: 34},\n",
       " 'age_cat': {0: 'Greater than 45', 1: '25 - 45', 2: '25 - 45'},\n",
       " 'race': {0: 'Other', 1: 'Caucasian', 2: 'African-American'},\n",
       " 'juv_fel_count': {0: 0, 1: 0, 2: 0},\n",
       " 'decile_score': {0: 1, 1: 5, 2: 3},\n",
       " 'juv_misd_count': {0: 0, 1: 0, 2: 0},\n",
       " 'juv_other_count': {0: 0, 1: 0, 2: 0},\n",
       " 'priors_count': {0: 0, 1: 0, 2: 0},\n",
       " 'days_b_screening_arrest': {0: -1.0, 1: nan, 2: -1.0},\n",
       " 'c_jail_in': {0: '2013-08-13 06:03:42', 1: nan, 2: '2013-01-26 03:45:27'},\n",
       " 'c_jail_out': {0: '2013-08-14 05:41:20', 1: nan, 2: '2013-02-05 05:36:53'},\n",
       " 'c_case_number': {0: '13011352CF10A', 1: nan, 2: '13001275CF10A'},\n",
       " 'c_offense_date': {0: '2013-08-13', 1: nan, 2: '2013-01-26'},\n",
       " 'c_arrest_date': {0: nan, 1: nan, 2: nan},\n",
       " 'c_days_from_compas': {0: 1.0, 1: nan, 2: 1.0},\n",
       " 'c_charge_degree': {0: 'F', 1: 'O', 2: 'F'},\n",
       " 'c_charge_desc': {0: 'Aggravated Assault w/Firearm',\n",
       "  1: nan,\n",
       "  2: 'Felony Battery w/Prior Convict'},\n",
       " 'is_recid': {0: 0, 1: -1, 2: 1},\n",
       " 'num_r_cases': {0: nan, 1: nan, 2: nan},\n",
       " 'r_case_number': {0: nan, 1: nan, 2: '13009779CF10A'},\n",
       " 'r_charge_degree': {0: 'O', 1: 'O', 2: 'F'},\n",
       " 'r_days_from_arrest': {0: nan, 1: nan, 2: nan},\n",
       " 'r_offense_date': {0: nan, 1: nan, 2: '2013-07-05'},\n",
       " 'r_charge_desc': {0: nan, 1: nan, 2: 'Felony Battery (Dom Strang)'},\n",
       " 'r_jail_in': {0: nan, 1: nan, 2: nan},\n",
       " 'r_jail_out': {0: nan, 1: nan, 2: nan},\n",
       " 'is_violent_recid': {0: 0, 1: 0, 2: 1},\n",
       " 'num_vr_cases': {0: nan, 1: nan, 2: nan},\n",
       " 'vr_case_number': {0: nan, 1: nan, 2: '13009779CF10A'},\n",
       " 'vr_charge_degree': {0: nan, 1: nan, 2: '(F3)'},\n",
       " 'vr_offense_date': {0: nan, 1: nan, 2: '2013-07-05'},\n",
       " 'vr_charge_desc': {0: nan, 1: nan, 2: 'Felony Battery (Dom Strang)'},\n",
       " 'v_type_of_assessment': {0: 'Risk of Violence',\n",
       "  1: 'Risk of Violence',\n",
       "  2: 'Risk of Violence'},\n",
       " 'v_decile_score': {0: 1, 1: 2, 2: 1},\n",
       " 'v_score_text': {0: 'Low', 1: 'Low', 2: 'Low'},\n",
       " 'v_screening_date': {0: '2013-08-14', 1: '2014-12-31', 2: '2013-01-27'},\n",
       " 'type_of_assessment': {0: 'Risk of Recidivism',\n",
       "  1: 'Risk of Recidivism',\n",
       "  2: 'Risk of Recidivism'},\n",
       " 'decile_score.1': {0: 1, 1: 5, 2: 3},\n",
       " 'score_text': {0: 'Low', 1: 'Medium', 2: 'Low'},\n",
       " 'screening_date': {0: '2013-08-14', 1: '2014-12-31', 2: '2013-01-27'}}"
      ]
     },
     "execution_count": 8,
     "metadata": {},
     "output_type": "execute_result"
    }
   ],
   "source": [
    "# Para ver todas las variables de df_compas\n",
    "\n",
    "df_compas.iloc[:3,:].to_dict()"
   ]
  },
  {
   "cell_type": "code",
   "execution_count": 9,
   "id": "2b48abdb",
   "metadata": {},
   "outputs": [
    {
     "data": {
      "text/html": [
       "<div>\n",
       "<style scoped>\n",
       "    .dataframe tbody tr th:only-of-type {\n",
       "        vertical-align: middle;\n",
       "    }\n",
       "\n",
       "    .dataframe tbody tr th {\n",
       "        vertical-align: top;\n",
       "    }\n",
       "\n",
       "    .dataframe thead th {\n",
       "        text-align: right;\n",
       "    }\n",
       "</style>\n",
       "<table border=\"1\" class=\"dataframe\">\n",
       "  <thead>\n",
       "    <tr style=\"text-align: right;\">\n",
       "      <th></th>\n",
       "      <th>name</th>\n",
       "      <th>sex</th>\n",
       "      <th>dob</th>\n",
       "      <th>age</th>\n",
       "      <th>race</th>\n",
       "      <th>compas_screening_date</th>\n",
       "      <th>decile_score</th>\n",
       "      <th>v_decile_score</th>\n",
       "      <th>is_recid</th>\n",
       "      <th>r_offense_date</th>\n",
       "      <th>is_violent_recid</th>\n",
       "      <th>vr_offense_date</th>\n",
       "    </tr>\n",
       "  </thead>\n",
       "  <tbody>\n",
       "    <tr>\n",
       "      <th>0</th>\n",
       "      <td>miguel hernandez</td>\n",
       "      <td>Male</td>\n",
       "      <td>1947-04-18</td>\n",
       "      <td>69</td>\n",
       "      <td>Other</td>\n",
       "      <td>2013-08-14</td>\n",
       "      <td>1</td>\n",
       "      <td>1</td>\n",
       "      <td>0</td>\n",
       "      <td>NaN</td>\n",
       "      <td>0</td>\n",
       "      <td>NaN</td>\n",
       "    </tr>\n",
       "    <tr>\n",
       "      <th>1</th>\n",
       "      <td>michael ryan</td>\n",
       "      <td>Male</td>\n",
       "      <td>1985-02-06</td>\n",
       "      <td>31</td>\n",
       "      <td>Caucasian</td>\n",
       "      <td>2014-12-31</td>\n",
       "      <td>5</td>\n",
       "      <td>2</td>\n",
       "      <td>-1</td>\n",
       "      <td>NaN</td>\n",
       "      <td>0</td>\n",
       "      <td>NaN</td>\n",
       "    </tr>\n",
       "    <tr>\n",
       "      <th>2</th>\n",
       "      <td>kevon dixon</td>\n",
       "      <td>Male</td>\n",
       "      <td>1982-01-22</td>\n",
       "      <td>34</td>\n",
       "      <td>African-American</td>\n",
       "      <td>2013-01-27</td>\n",
       "      <td>3</td>\n",
       "      <td>1</td>\n",
       "      <td>1</td>\n",
       "      <td>2013-07-05</td>\n",
       "      <td>1</td>\n",
       "      <td>2013-07-05</td>\n",
       "    </tr>\n",
       "    <tr>\n",
       "      <th>3</th>\n",
       "      <td>ed philo</td>\n",
       "      <td>Male</td>\n",
       "      <td>1991-05-14</td>\n",
       "      <td>24</td>\n",
       "      <td>African-American</td>\n",
       "      <td>2013-04-14</td>\n",
       "      <td>4</td>\n",
       "      <td>3</td>\n",
       "      <td>1</td>\n",
       "      <td>2013-06-16</td>\n",
       "      <td>0</td>\n",
       "      <td>NaN</td>\n",
       "    </tr>\n",
       "    <tr>\n",
       "      <th>4</th>\n",
       "      <td>marcu brown</td>\n",
       "      <td>Male</td>\n",
       "      <td>1993-01-21</td>\n",
       "      <td>23</td>\n",
       "      <td>African-American</td>\n",
       "      <td>2013-01-13</td>\n",
       "      <td>8</td>\n",
       "      <td>6</td>\n",
       "      <td>0</td>\n",
       "      <td>NaN</td>\n",
       "      <td>0</td>\n",
       "      <td>NaN</td>\n",
       "    </tr>\n",
       "  </tbody>\n",
       "</table>\n",
       "</div>"
      ],
      "text/plain": [
       "               name   sex         dob  age              race  \\\n",
       "0  miguel hernandez  Male  1947-04-18   69             Other   \n",
       "1      michael ryan  Male  1985-02-06   31         Caucasian   \n",
       "2       kevon dixon  Male  1982-01-22   34  African-American   \n",
       "3          ed philo  Male  1991-05-14   24  African-American   \n",
       "4       marcu brown  Male  1993-01-21   23  African-American   \n",
       "\n",
       "  compas_screening_date  decile_score  v_decile_score  is_recid  \\\n",
       "0            2013-08-14             1               1         0   \n",
       "1            2014-12-31             5               2        -1   \n",
       "2            2013-01-27             3               1         1   \n",
       "3            2013-04-14             4               3         1   \n",
       "4            2013-01-13             8               6         0   \n",
       "\n",
       "  r_offense_date  is_violent_recid vr_offense_date  \n",
       "0            NaN                 0             NaN  \n",
       "1            NaN                 0             NaN  \n",
       "2     2013-07-05                 1      2013-07-05  \n",
       "3     2013-06-16                 0             NaN  \n",
       "4            NaN                 0             NaN  "
      ]
     },
     "execution_count": 9,
     "metadata": {},
     "output_type": "execute_result"
    }
   ],
   "source": [
    "# Creamos un nuevo DataFrame unicamente con las columnas que nos interesan.\n",
    "# Estas serán las variables que nos permiten describir al individuo, las del enunciado y las que necesitaremos para los siguientes apartados(sex)\n",
    "\n",
    "df = df_compas[['name','sex','dob','age','race','compas_screening_date', 'decile_score','v_decile_score', 'is_recid', 'r_offense_date','is_violent_recid','vr_offense_date']].copy()\n",
    "df.head()"
   ]
  },
  {
   "cell_type": "code",
   "execution_count": 10,
   "id": "97bacb25",
   "metadata": {},
   "outputs": [
    {
     "name": "stdout",
     "output_type": "stream",
     "text": [
      "<class 'pandas.core.frame.DataFrame'>\n",
      "RangeIndex: 11757 entries, 0 to 11756\n",
      "Data columns (total 12 columns):\n",
      " #   Column                 Non-Null Count  Dtype \n",
      "---  ------                 --------------  ----- \n",
      " 0   name                   11757 non-null  object\n",
      " 1   sex                    11757 non-null  object\n",
      " 2   dob                    11757 non-null  object\n",
      " 3   age                    11757 non-null  int64 \n",
      " 4   race                   11757 non-null  object\n",
      " 5   compas_screening_date  11757 non-null  object\n",
      " 6   decile_score           11757 non-null  int64 \n",
      " 7   v_decile_score         11757 non-null  int64 \n",
      " 8   is_recid               11757 non-null  int64 \n",
      " 9   r_offense_date         3703 non-null   object\n",
      " 10  is_violent_recid       11757 non-null  int64 \n",
      " 11  vr_offense_date        882 non-null    object\n",
      "dtypes: int64(5), object(7)\n",
      "memory usage: 1.1+ MB\n"
     ]
    }
   ],
   "source": [
    "df.info()"
   ]
  },
  {
   "cell_type": "code",
   "execution_count": 11,
   "id": "13149eea",
   "metadata": {},
   "outputs": [
    {
     "data": {
      "text/plain": [
       "name                     11584\n",
       "sex                          2\n",
       "dob                       7800\n",
       "age                         66\n",
       "race                         6\n",
       "compas_screening_date      704\n",
       "decile_score                11\n",
       "v_decile_score              11\n",
       "is_recid                     3\n",
       "r_offense_date            1090\n",
       "is_violent_recid             2\n",
       "vr_offense_date            599\n",
       "dtype: int64"
      ]
     },
     "execution_count": 11,
     "metadata": {},
     "output_type": "execute_result"
    }
   ],
   "source": [
    "df.nunique()"
   ]
  },
  {
   "cell_type": "markdown",
   "id": "1ee65431",
   "metadata": {},
   "source": [
    "-----------------------------------------------------------\n",
    "Del dataframe reducido observamos varias cosas:\n",
    "- Tenemos un total de 11584 nombres y apellidos unicos de 11757 datos que tiene el DataFrame. ¿Podría haber filas repetidas?\n",
    "- Las variables 'decile_score' y 'decile_score' deberían dar una puntuación del 1 al 10. ¿Por qué tienen 11 valores únicos?\n",
    "- La variable 'is_recid' es binaria, sin embargo aparecen 3 valores únicos. ¿Por qué tienen 3 valores únicos?\n",
    "\n",
    "En cuanto a los valores nulos, en un principio parece que todos están bien definidos.\n"
   ]
  },
  {
   "cell_type": "markdown",
   "id": "f7e9000c",
   "metadata": {},
   "source": [
    "### 1.2 Análisis exploratorio"
   ]
  },
  {
   "cell_type": "markdown",
   "id": "18838692",
   "metadata": {},
   "source": [
    "Primero vamos a comenzar analizando la variable **'is_recid'**. Ya que, al ser un campo binario lo más probable sea que la tercera variable sea un campo nulo."
   ]
  },
  {
   "cell_type": "code",
   "execution_count": 12,
   "id": "cd8a6115",
   "metadata": {},
   "outputs": [
    {
     "name": "stdout",
     "output_type": "stream",
     "text": [
      "Columna: is_recid  -  Tipo de datos: int64\n",
      "Número de valores nulos: 0  -  Número de valores distintos: 3\n",
      "Valores más frecuentes:\n",
      "0 \t 7335\n",
      "1 \t 3703\n",
      "-1 \t 719\n"
     ]
    }
   ],
   "source": [
    "describe_columna(df, 'is_recid')"
   ]
  },
  {
   "cell_type": "code",
   "execution_count": 13,
   "id": "5c87c296",
   "metadata": {},
   "outputs": [
    {
     "data": {
      "text/plain": [
       "Index([    1,    35,    45,    57,   108,   124,   128,   139,   148,   197,\n",
       "       ...\n",
       "       11644, 11649, 11659, 11669, 11679, 11686, 11689, 11695, 11714, 11716],\n",
       "      dtype='int64', length=719)"
      ]
     },
     "execution_count": 13,
     "metadata": {},
     "output_type": "execute_result"
    }
   ],
   "source": [
    "df[df.is_recid == -1].index"
   ]
  },
  {
   "cell_type": "markdown",
   "id": "cdc90853",
   "metadata": {},
   "source": [
    "Buscando en internet vemos en un artículo de ProPublica que dice lo siguente:\n",
    "\n",
    "\"Additionally, ProPublica also dropped 719 people who did not appear to have good data. ProPublica could not find case/arrest information on these people. ProPublica tagged these as “is_recid =-1” in the full dataset.\"\n",
    "\n",
    "Es decir, todas las filas con este valor no son datos fiables. Por lo tanto, los descartaremos."
   ]
  },
  {
   "cell_type": "code",
   "execution_count": 14,
   "id": "fdd1d553",
   "metadata": {},
   "outputs": [
    {
     "name": "stdout",
     "output_type": "stream",
     "text": [
      "Columna: is_recid  -  Tipo de datos: int64\n",
      "Número de valores nulos: 0  -  Número de valores distintos: 2\n",
      "Valores más frecuentes:\n",
      "0 \t 7335\n",
      "1 \t 3703\n",
      "====================================\n"
     ]
    },
    {
     "data": {
      "text/plain": [
       "name                     10902\n",
       "sex                          2\n",
       "dob                       7466\n",
       "age                         66\n",
       "race                         6\n",
       "compas_screening_date      704\n",
       "decile_score                11\n",
       "v_decile_score              11\n",
       "is_recid                     2\n",
       "r_offense_date            1090\n",
       "is_violent_recid             2\n",
       "vr_offense_date            599\n",
       "dtype: int64"
      ]
     },
     "execution_count": 14,
     "metadata": {},
     "output_type": "execute_result"
    }
   ],
   "source": [
    "# Eliminamos todas las filas\n",
    "df.drop(df[df.is_recid == -1].index, axis=0, inplace=True)\n",
    "\n",
    "# Comprobamos que las hemos eliminado correctamente\n",
    "describe_columna(df, 'is_recid')\n",
    "\n",
    "print('====================================')\n",
    "# Comprobamos si también hemos resuelto el problema de las variables 'decile_score' y 'decile_score'.\n",
    "df.nunique()"
   ]
  },
  {
   "cell_type": "markdown",
   "id": "cea38cb0",
   "metadata": {},
   "source": [
    "-----------------------------------------------\n",
    "Como no hemos conseguido resolverlo, analizamos las columnas 'decile_score' y 'decile_score'."
   ]
  },
  {
   "cell_type": "code",
   "execution_count": 15,
   "id": "cf8e6439",
   "metadata": {},
   "outputs": [
    {
     "name": "stdout",
     "output_type": "stream",
     "text": [
      "Columna: decile_score  -  Tipo de datos: int64\n",
      "Número de valores nulos: 0  -  Número de valores distintos: 11\n",
      "Valores más frecuentes:\n",
      "1 \t 2368\n",
      "2 \t 1478\n",
      "3 \t 1167\n",
      "4 \t 1130\n",
      "5 \t 982\n",
      "6 \t 941\n",
      "7 \t 862\n",
      "9 \t 761\n",
      "8 \t 758\n",
      "10 \t 580\n",
      "-1 \t 11\n"
     ]
    }
   ],
   "source": [
    "describe_columna(df, 'decile_score')"
   ]
  },
  {
   "cell_type": "code",
   "execution_count": 16,
   "id": "ee7b2ac8",
   "metadata": {},
   "outputs": [
    {
     "name": "stdout",
     "output_type": "stream",
     "text": [
      "Columna: v_decile_score  -  Tipo de datos: int64\n",
      "Número de valores nulos: 0  -  Número de valores distintos: 11\n",
      "Valores más frecuentes:\n",
      "1 \t 3098\n",
      "2 \t 1689\n",
      "3 \t 1484\n",
      "4 \t 1181\n",
      "5 \t 1018\n",
      "6 \t 856\n",
      "7 \t 644\n",
      "8 \t 454\n",
      "9 \t 423\n",
      "10 \t 187\n",
      "-1 \t 4\n"
     ]
    }
   ],
   "source": [
    "describe_columna(df, 'v_decile_score')"
   ]
  },
  {
   "cell_type": "markdown",
   "id": "cf5f36ff",
   "metadata": {},
   "source": [
    "Parece que tenemos la misma situación que en el caso anterior.\n",
    "Comprobamos esta suposición en la guía de COMPAS publicada en internet.\n",
    "En ella se indica lo siguiente:\n",
    "\n",
    "\"In general the decile rank has the following interpretation:\n",
    "- 1-4: scale score is low relative to other offenders in norm group.\n",
    "- 5-7: scale score is medium relative to other offenders in norm group.\n",
    "- 8-10: scale score is high relative to other offenders in norm group.\"\n",
    "\n",
    "Y no se hace ninguna alusión al valor de -1. Luego lo interpretaremos como datos poco fiable, y por lo tanto los eliminaremos.\n",
    "     "
   ]
  },
  {
   "cell_type": "code",
   "execution_count": 17,
   "id": "ad84e158",
   "metadata": {},
   "outputs": [
    {
     "name": "stdout",
     "output_type": "stream",
     "text": [
      "Columna: decile_score  -  Tipo de datos: int64\n",
      "Número de valores nulos: 0  -  Número de valores distintos: 10\n",
      "Valores más frecuentes:\n",
      "1 \t 2368\n",
      "2 \t 1478\n",
      "3 \t 1167\n",
      "4 \t 1130\n",
      "5 \t 982\n",
      "6 \t 941\n",
      "7 \t 862\n",
      "9 \t 761\n",
      "8 \t 758\n",
      "10 \t 580\n",
      "Columna: v_decile_score  -  Tipo de datos: int64\n",
      "Número de valores nulos: 0  -  Número de valores distintos: 10\n",
      "Valores más frecuentes:\n",
      "1 \t 3095\n",
      "2 \t 1689\n",
      "3 \t 1483\n",
      "4 \t 1180\n",
      "5 \t 1017\n",
      "6 \t 855\n",
      "7 \t 644\n",
      "8 \t 454\n",
      "9 \t 423\n",
      "10 \t 187\n"
     ]
    },
    {
     "data": {
      "text/plain": [
       "name                     10891\n",
       "sex                          2\n",
       "dob                       7458\n",
       "age                         66\n",
       "race                         6\n",
       "compas_screening_date      704\n",
       "decile_score                10\n",
       "v_decile_score              10\n",
       "is_recid                     2\n",
       "r_offense_date            1090\n",
       "is_violent_recid             2\n",
       "vr_offense_date            599\n",
       "dtype: int64"
      ]
     },
     "execution_count": 17,
     "metadata": {},
     "output_type": "execute_result"
    }
   ],
   "source": [
    "# Eliminamos todas las filas\n",
    "df.drop(df[df.v_decile_score == -1].index, axis=0, inplace=True)\n",
    "df.drop(df[df.decile_score == -1].index, axis=0, inplace=True)\n",
    "\n",
    "describe_columna(df, 'decile_score')\n",
    "describe_columna(df, 'v_decile_score')\n",
    "df.nunique()"
   ]
  },
  {
   "cell_type": "code",
   "execution_count": 18,
   "id": "212ebed6",
   "metadata": {},
   "outputs": [
    {
     "name": "stdout",
     "output_type": "stream",
     "text": [
      "*CANTIDAD de datos nulos por columna en el dataframe\n",
      "name                         0\n",
      "sex                          0\n",
      "dob                          0\n",
      "age                          0\n",
      "race                         0\n",
      "compas_screening_date        0\n",
      "decile_score                 0\n",
      "v_decile_score               0\n",
      "is_recid                     0\n",
      "r_offense_date            7326\n",
      "is_violent_recid             0\n",
      "vr_offense_date          10145\n",
      "dtype: int64\n",
      "----------------------------------\n",
      "*PORCENTAJE de datos nulos por columna en el dataframe\n",
      "name                      0.000000\n",
      "sex                       0.000000\n",
      "dob                       0.000000\n",
      "age                       0.000000\n",
      "race                      0.000000\n",
      "compas_screening_date     0.000000\n",
      "decile_score              0.000000\n",
      "v_decile_score            0.000000\n",
      "is_recid                  0.000000\n",
      "r_offense_date           66.436928\n",
      "is_violent_recid          0.000000\n",
      "vr_offense_date          92.001451\n",
      "dtype: float64\n"
     ]
    }
   ],
   "source": [
    "# Vamos a analizar el número de valores nulos que hay en el df\n",
    "\n",
    "cant_nulos(df)"
   ]
  },
  {
   "cell_type": "markdown",
   "id": "a31b009f",
   "metadata": {},
   "source": [
    "Observamos que los valores nulos son proporcionalmente muy elevados en las columnas de las fechas en las que se cometió el delito y las fechas en las que se cometió un delito violento. Luego, esto explica que la mayoría de personas del compas no son reincidentes.\n",
    "\n",
    "Si esto es así, el campo de 'is_recid' debería tener todos los valores igualados a 0 para las fechas NaN."
   ]
  },
  {
   "cell_type": "code",
   "execution_count": 19,
   "id": "7bfd98ab",
   "metadata": {},
   "outputs": [
    {
     "name": "stdout",
     "output_type": "stream",
     "text": [
      "[0]\n",
      "[0 1]\n"
     ]
    }
   ],
   "source": [
    "# Comprobamos esta suposición \n",
    "print(df.is_recid[df.r_offense_date.isnull()].unique())\n",
    "print(df.is_recid[df.vr_offense_date.isnull()].unique())"
   ]
  },
  {
   "cell_type": "code",
   "execution_count": 20,
   "id": "52d466f1",
   "metadata": {},
   "outputs": [
    {
     "name": "stdout",
     "output_type": "stream",
     "text": [
      "El número de casos considerados como reincidentes pero sin fecha es: 2819\n"
     ]
    }
   ],
   "source": [
    "cont = 0\n",
    "for i in  df.is_recid[df.vr_offense_date.isnull()]:  \n",
    "    if i == 1:\n",
    "        cont += 1\n",
    "print('El número de casos considerados como reincidentes pero sin fecha es:', cont)\n"
   ]
  },
  {
   "cell_type": "code",
   "execution_count": 21,
   "id": "7808edf9",
   "metadata": {},
   "outputs": [
    {
     "data": {
      "text/html": [
       "<div>\n",
       "<style scoped>\n",
       "    .dataframe tbody tr th:only-of-type {\n",
       "        vertical-align: middle;\n",
       "    }\n",
       "\n",
       "    .dataframe tbody tr th {\n",
       "        vertical-align: top;\n",
       "    }\n",
       "\n",
       "    .dataframe thead th {\n",
       "        text-align: right;\n",
       "    }\n",
       "</style>\n",
       "<table border=\"1\" class=\"dataframe\">\n",
       "  <thead>\n",
       "    <tr style=\"text-align: right;\">\n",
       "      <th></th>\n",
       "      <th>name</th>\n",
       "      <th>sex</th>\n",
       "      <th>dob</th>\n",
       "      <th>age</th>\n",
       "      <th>race</th>\n",
       "      <th>compas_screening_date</th>\n",
       "      <th>decile_score</th>\n",
       "      <th>v_decile_score</th>\n",
       "      <th>is_recid</th>\n",
       "      <th>r_offense_date</th>\n",
       "      <th>is_violent_recid</th>\n",
       "      <th>vr_offense_date</th>\n",
       "    </tr>\n",
       "  </thead>\n",
       "  <tbody>\n",
       "    <tr>\n",
       "      <th>0</th>\n",
       "      <td>miguel hernandez</td>\n",
       "      <td>Male</td>\n",
       "      <td>1947-04-18</td>\n",
       "      <td>69</td>\n",
       "      <td>Other</td>\n",
       "      <td>2013-08-14</td>\n",
       "      <td>1</td>\n",
       "      <td>1</td>\n",
       "      <td>0</td>\n",
       "      <td>NaN</td>\n",
       "      <td>0</td>\n",
       "      <td>NaN</td>\n",
       "    </tr>\n",
       "    <tr>\n",
       "      <th>2</th>\n",
       "      <td>kevon dixon</td>\n",
       "      <td>Male</td>\n",
       "      <td>1982-01-22</td>\n",
       "      <td>34</td>\n",
       "      <td>African-American</td>\n",
       "      <td>2013-01-27</td>\n",
       "      <td>3</td>\n",
       "      <td>1</td>\n",
       "      <td>1</td>\n",
       "      <td>2013-07-05</td>\n",
       "      <td>1</td>\n",
       "      <td>2013-07-05</td>\n",
       "    </tr>\n",
       "    <tr>\n",
       "      <th>3</th>\n",
       "      <td>ed philo</td>\n",
       "      <td>Male</td>\n",
       "      <td>1991-05-14</td>\n",
       "      <td>24</td>\n",
       "      <td>African-American</td>\n",
       "      <td>2013-04-14</td>\n",
       "      <td>4</td>\n",
       "      <td>3</td>\n",
       "      <td>1</td>\n",
       "      <td>2013-06-16</td>\n",
       "      <td>0</td>\n",
       "      <td>NaN</td>\n",
       "    </tr>\n",
       "    <tr>\n",
       "      <th>4</th>\n",
       "      <td>marcu brown</td>\n",
       "      <td>Male</td>\n",
       "      <td>1993-01-21</td>\n",
       "      <td>23</td>\n",
       "      <td>African-American</td>\n",
       "      <td>2013-01-13</td>\n",
       "      <td>8</td>\n",
       "      <td>6</td>\n",
       "      <td>0</td>\n",
       "      <td>NaN</td>\n",
       "      <td>0</td>\n",
       "      <td>NaN</td>\n",
       "    </tr>\n",
       "    <tr>\n",
       "      <th>5</th>\n",
       "      <td>bouthy pierrelouis</td>\n",
       "      <td>Male</td>\n",
       "      <td>1973-01-22</td>\n",
       "      <td>43</td>\n",
       "      <td>Other</td>\n",
       "      <td>2013-03-26</td>\n",
       "      <td>1</td>\n",
       "      <td>1</td>\n",
       "      <td>0</td>\n",
       "      <td>NaN</td>\n",
       "      <td>0</td>\n",
       "      <td>NaN</td>\n",
       "    </tr>\n",
       "    <tr>\n",
       "      <th>6</th>\n",
       "      <td>marsha miles</td>\n",
       "      <td>Male</td>\n",
       "      <td>1971-08-22</td>\n",
       "      <td>44</td>\n",
       "      <td>Other</td>\n",
       "      <td>2013-11-30</td>\n",
       "      <td>1</td>\n",
       "      <td>1</td>\n",
       "      <td>0</td>\n",
       "      <td>NaN</td>\n",
       "      <td>0</td>\n",
       "      <td>NaN</td>\n",
       "    </tr>\n",
       "    <tr>\n",
       "      <th>7</th>\n",
       "      <td>edward riddle</td>\n",
       "      <td>Male</td>\n",
       "      <td>1974-07-23</td>\n",
       "      <td>41</td>\n",
       "      <td>Caucasian</td>\n",
       "      <td>2014-02-19</td>\n",
       "      <td>6</td>\n",
       "      <td>2</td>\n",
       "      <td>1</td>\n",
       "      <td>2014-03-31</td>\n",
       "      <td>0</td>\n",
       "      <td>NaN</td>\n",
       "    </tr>\n",
       "    <tr>\n",
       "      <th>8</th>\n",
       "      <td>steven stewart</td>\n",
       "      <td>Male</td>\n",
       "      <td>1973-02-25</td>\n",
       "      <td>43</td>\n",
       "      <td>Other</td>\n",
       "      <td>2013-08-30</td>\n",
       "      <td>4</td>\n",
       "      <td>3</td>\n",
       "      <td>0</td>\n",
       "      <td>NaN</td>\n",
       "      <td>0</td>\n",
       "      <td>NaN</td>\n",
       "    </tr>\n",
       "    <tr>\n",
       "      <th>9</th>\n",
       "      <td>elizabeth thieme</td>\n",
       "      <td>Female</td>\n",
       "      <td>1976-06-03</td>\n",
       "      <td>39</td>\n",
       "      <td>Caucasian</td>\n",
       "      <td>2014-03-16</td>\n",
       "      <td>1</td>\n",
       "      <td>1</td>\n",
       "      <td>0</td>\n",
       "      <td>NaN</td>\n",
       "      <td>0</td>\n",
       "      <td>NaN</td>\n",
       "    </tr>\n",
       "    <tr>\n",
       "      <th>10</th>\n",
       "      <td>darrell blackburn</td>\n",
       "      <td>Male</td>\n",
       "      <td>1995-11-16</td>\n",
       "      <td>20</td>\n",
       "      <td>Caucasian</td>\n",
       "      <td>2013-12-09</td>\n",
       "      <td>10</td>\n",
       "      <td>9</td>\n",
       "      <td>0</td>\n",
       "      <td>NaN</td>\n",
       "      <td>0</td>\n",
       "      <td>NaN</td>\n",
       "    </tr>\n",
       "  </tbody>\n",
       "</table>\n",
       "</div>"
      ],
      "text/plain": [
       "                  name     sex         dob  age              race  \\\n",
       "0     miguel hernandez    Male  1947-04-18   69             Other   \n",
       "2          kevon dixon    Male  1982-01-22   34  African-American   \n",
       "3             ed philo    Male  1991-05-14   24  African-American   \n",
       "4          marcu brown    Male  1993-01-21   23  African-American   \n",
       "5   bouthy pierrelouis    Male  1973-01-22   43             Other   \n",
       "6         marsha miles    Male  1971-08-22   44             Other   \n",
       "7        edward riddle    Male  1974-07-23   41         Caucasian   \n",
       "8       steven stewart    Male  1973-02-25   43             Other   \n",
       "9     elizabeth thieme  Female  1976-06-03   39         Caucasian   \n",
       "10   darrell blackburn    Male  1995-11-16   20         Caucasian   \n",
       "\n",
       "   compas_screening_date  decile_score  v_decile_score  is_recid  \\\n",
       "0             2013-08-14             1               1         0   \n",
       "2             2013-01-27             3               1         1   \n",
       "3             2013-04-14             4               3         1   \n",
       "4             2013-01-13             8               6         0   \n",
       "5             2013-03-26             1               1         0   \n",
       "6             2013-11-30             1               1         0   \n",
       "7             2014-02-19             6               2         1   \n",
       "8             2013-08-30             4               3         0   \n",
       "9             2014-03-16             1               1         0   \n",
       "10            2013-12-09            10               9         0   \n",
       "\n",
       "   r_offense_date  is_violent_recid vr_offense_date  \n",
       "0             NaN                 0             NaN  \n",
       "2      2013-07-05                 1      2013-07-05  \n",
       "3      2013-06-16                 0             NaN  \n",
       "4             NaN                 0             NaN  \n",
       "5             NaN                 0             NaN  \n",
       "6             NaN                 0             NaN  \n",
       "7      2014-03-31                 0             NaN  \n",
       "8             NaN                 0             NaN  \n",
       "9             NaN                 0             NaN  \n",
       "10            NaN                 0             NaN  "
      ]
     },
     "execution_count": 21,
     "metadata": {},
     "output_type": "execute_result"
    }
   ],
   "source": [
    "df.head(10)"
   ]
  },
  {
   "cell_type": "markdown",
   "id": "affa1a9e",
   "metadata": {},
   "source": [
    "Como podemos observar, el motivo por el cual se le considera reincidente sin tener fecha en “vr_offense_date” es que dicha fecha indica que el delito fue violento, pero\n",
    "para ser reincidente no tiene por que haber cometido un delito violento. Luego, los valores que observamos en el dataframe son correctos, pues no hay ninguna fecha nula del campo \"r_offense_date\" con valor 1 en la columna \"is_decid\".\n"
   ]
  },
  {
   "cell_type": "markdown",
   "id": "329df4c7",
   "metadata": {},
   "source": [
    "Analizamos a continuación los nombres de los COMPAS"
   ]
  },
  {
   "cell_type": "code",
   "execution_count": 22,
   "id": "f13d794d",
   "metadata": {},
   "outputs": [
    {
     "data": {
      "text/html": [
       "<div>\n",
       "<style scoped>\n",
       "    .dataframe tbody tr th:only-of-type {\n",
       "        vertical-align: middle;\n",
       "    }\n",
       "\n",
       "    .dataframe tbody tr th {\n",
       "        vertical-align: top;\n",
       "    }\n",
       "\n",
       "    .dataframe thead th {\n",
       "        text-align: right;\n",
       "    }\n",
       "</style>\n",
       "<table border=\"1\" class=\"dataframe\">\n",
       "  <thead>\n",
       "    <tr style=\"text-align: right;\">\n",
       "      <th></th>\n",
       "      <th>name</th>\n",
       "      <th>sex</th>\n",
       "      <th>dob</th>\n",
       "      <th>age</th>\n",
       "      <th>race</th>\n",
       "      <th>compas_screening_date</th>\n",
       "      <th>decile_score</th>\n",
       "      <th>v_decile_score</th>\n",
       "      <th>is_recid</th>\n",
       "      <th>r_offense_date</th>\n",
       "      <th>is_violent_recid</th>\n",
       "      <th>vr_offense_date</th>\n",
       "    </tr>\n",
       "  </thead>\n",
       "  <tbody>\n",
       "  </tbody>\n",
       "</table>\n",
       "</div>"
      ],
      "text/plain": [
       "Empty DataFrame\n",
       "Columns: [name, sex, dob, age, race, compas_screening_date, decile_score, v_decile_score, is_recid, r_offense_date, is_violent_recid, vr_offense_date]\n",
       "Index: []"
      ]
     },
     "execution_count": 22,
     "metadata": {},
     "output_type": "execute_result"
    }
   ],
   "source": [
    "df[df.duplicated(['name','dob','age'], keep=False)].sort_values(by= 'name')"
   ]
  },
  {
   "cell_type": "markdown",
   "id": "311d97cf",
   "metadata": {},
   "source": [
    "Parece ser que no hay ningún valor repetido."
   ]
  },
  {
   "cell_type": "code",
   "execution_count": 23,
   "id": "a0caae39",
   "metadata": {},
   "outputs": [
    {
     "name": "stdout",
     "output_type": "stream",
     "text": [
      "<class 'pandas.core.frame.DataFrame'>\n",
      "Index: 11027 entries, 0 to 11756\n",
      "Data columns (total 12 columns):\n",
      " #   Column                 Non-Null Count  Dtype \n",
      "---  ------                 --------------  ----- \n",
      " 0   name                   11027 non-null  object\n",
      " 1   sex                    11027 non-null  object\n",
      " 2   dob                    11027 non-null  object\n",
      " 3   age                    11027 non-null  int64 \n",
      " 4   race                   11027 non-null  object\n",
      " 5   compas_screening_date  11027 non-null  object\n",
      " 6   decile_score           11027 non-null  int64 \n",
      " 7   v_decile_score         11027 non-null  int64 \n",
      " 8   is_recid               11027 non-null  int64 \n",
      " 9   r_offense_date         3701 non-null   object\n",
      " 10  is_violent_recid       11027 non-null  int64 \n",
      " 11  vr_offense_date        882 non-null    object\n",
      "dtypes: int64(5), object(7)\n",
      "memory usage: 1.1+ MB\n"
     ]
    }
   ],
   "source": [
    "df.info()"
   ]
  },
  {
   "cell_type": "markdown",
   "id": "83e86f14",
   "metadata": {},
   "source": [
    "A continuación cambiamos la tipología de los datos a una más adecuada para finalmente guardar el dataset tras haber realizado su preprocesado."
   ]
  },
  {
   "cell_type": "code",
   "execution_count": 24,
   "id": "b20cfc33",
   "metadata": {},
   "outputs": [
    {
     "name": "stdout",
     "output_type": "stream",
     "text": [
      "<class 'pandas.core.frame.DataFrame'>\n",
      "Index: 11027 entries, 0 to 11756\n",
      "Data columns (total 12 columns):\n",
      " #   Column                 Non-Null Count  Dtype         \n",
      "---  ------                 --------------  -----         \n",
      " 0   name                   11027 non-null  string        \n",
      " 1   sex                    11027 non-null  category      \n",
      " 2   dob                    11027 non-null  datetime64[ns]\n",
      " 3   age                    11027 non-null  int64         \n",
      " 4   race                   11027 non-null  category      \n",
      " 5   compas_screening_date  11027 non-null  datetime64[ns]\n",
      " 6   decile_score           11027 non-null  int64         \n",
      " 7   v_decile_score         11027 non-null  int64         \n",
      " 8   is_recid               11027 non-null  category      \n",
      " 9   r_offense_date         3701 non-null   datetime64[ns]\n",
      " 10  is_violent_recid       11027 non-null  category      \n",
      " 11  vr_offense_date        882 non-null    datetime64[ns]\n",
      "dtypes: category(4), datetime64[ns](4), int64(3), string(1)\n",
      "memory usage: 819.0 KB\n"
     ]
    }
   ],
   "source": [
    "df['name'] = df['name'].astype('string')\n",
    "df['sex'] = df['sex'].astype('category')\n",
    "df['dob'] = pd.to_datetime(df['dob'])\n",
    "df['race'] = df['race'].astype('category')\n",
    "df['compas_screening_date'] = pd.to_datetime(df['compas_screening_date'])\n",
    "df['is_recid'] = df['is_recid'].astype('category')\n",
    "df['r_offense_date'] = pd.to_datetime(df['r_offense_date'])\n",
    "df['is_violent_recid'] = df['is_violent_recid'].astype('category')\n",
    "df['vr_offense_date'] = pd.to_datetime(df['vr_offense_date'])\n",
    "\n",
    "df.info()"
   ]
  },
  {
   "cell_type": "code",
   "execution_count": 25,
   "id": "1620860d",
   "metadata": {},
   "outputs": [],
   "source": [
    "# Lo guardamos en un parquet por seguridad.\n",
    "\n",
    "df.to_parquet(\"compas-scores.parquet\")"
   ]
  },
  {
   "cell_type": "markdown",
   "id": "bc9f3579",
   "metadata": {},
   "source": [
    "## 2. ¿Son los campos “is_recid” e “is_violent_recid” en este conjunto de datos adecuados para evaluar la precisión de las estimaciones de riesgo generadas por el sistema COMPAS? Si no es así, definir y calcular una feature que sí lo sea."
   ]
  },
  {
   "cell_type": "markdown",
   "id": "f7267dc2",
   "metadata": {},
   "source": [
    "Dado que conociendo los campos de 'is_recid' e 'is_violent_recid' no podemos saber con precisión que nota tiene en 'decile_score' y 'v_decile_score'. Se intuye que no son buenos campos para predecir dichos valores. Sin embargo, si que se puede intuir que para los casos donde 'is_recid' o 'is_violent_recid' es 0, la nota debería ser baja. Al igual que para los casos con 'is_recid' o 'is_violent_recid' = 1 deberían tomar valores más elevados."
   ]
  },
  {
   "cell_type": "code",
   "execution_count": 26,
   "id": "bdf5bb37",
   "metadata": {},
   "outputs": [
    {
     "data": {
      "text/html": [
       "<div>\n",
       "<style scoped>\n",
       "    .dataframe tbody tr th:only-of-type {\n",
       "        vertical-align: middle;\n",
       "    }\n",
       "\n",
       "    .dataframe tbody tr th {\n",
       "        vertical-align: top;\n",
       "    }\n",
       "\n",
       "    .dataframe thead th {\n",
       "        text-align: right;\n",
       "    }\n",
       "</style>\n",
       "<table border=\"1\" class=\"dataframe\">\n",
       "  <thead>\n",
       "    <tr style=\"text-align: right;\">\n",
       "      <th>real</th>\n",
       "      <th>False</th>\n",
       "      <th>True</th>\n",
       "    </tr>\n",
       "    <tr>\n",
       "      <th>prediccion</th>\n",
       "      <th></th>\n",
       "      <th></th>\n",
       "    </tr>\n",
       "  </thead>\n",
       "  <tbody>\n",
       "    <tr>\n",
       "      <th>False</th>\n",
       "      <td>5868</td>\n",
       "      <td>1458</td>\n",
       "    </tr>\n",
       "    <tr>\n",
       "      <th>True</th>\n",
       "      <td>2198</td>\n",
       "      <td>1503</td>\n",
       "    </tr>\n",
       "  </tbody>\n",
       "</table>\n",
       "</div>"
      ],
      "text/plain": [
       "real        False  True \n",
       "prediccion              \n",
       "False        5868   1458\n",
       "True         2198   1503"
      ]
     },
     "execution_count": 26,
     "metadata": {},
     "output_type": "execute_result"
    }
   ],
   "source": [
    "# Comprobamos esta suposición a través de una tabla de contingencia en la que comprobaremos \n",
    "# si hay coincidencias de is_recid = 1 con decile_score >= 7\n",
    "\n",
    "# NOTA: se escoge este valor para posteriormente compararlo con los valores del apartado 3.\n",
    "\n",
    "cm = pd.crosstab(df.is_recid==1, df.decile_score>=7, rownames=['prediccion'], colnames=['real'])\n",
    "cm"
   ]
  },
  {
   "cell_type": "code",
   "execution_count": 27,
   "id": "e5c7c36a",
   "metadata": {},
   "outputs": [
    {
     "name": "stdout",
     "output_type": "stream",
     "text": [
      "Accuracy:  0.6684501677700191\n",
      "PPV:  0.40610645771413134\n",
      "FPR:  0.272501859657823\n",
      "FNR:  0.49240121580547114\n",
      "\n"
     ]
    }
   ],
   "source": [
    "TN = cm[False][False]   \n",
    "TP = cm[True][True]\n",
    "FN = cm[True][False]\n",
    "FP = cm[False][True]\n",
    "\n",
    "print('Accuracy: ', (TN+TP)/(TN+TP+FN+FP))\n",
    "print('PPV: ', TP / (TP + FP))\n",
    "print('FPR: ', FP / (FP + TN))\n",
    "print('FNR: ', FN / (FN + TP))\n",
    "print()"
   ]
  },
  {
   "cell_type": "markdown",
   "id": "6fe8eb17",
   "metadata": {},
   "source": [
    "\n",
    "Esto quiere decir que hay 5868 + 2198 = 8066 individuos con decile_score < 7 (no peligrosos) y 1458 + 1503 = 2961 con decile_score >= 7.  \n",
    "\n",
    "De los 5013 'no peligrosos', solo 8066 tienen 'is_recid'= 0. Los 2198 restantes tienen 'is_recid' = 1. Es decir, si nos fijamos \n",
    "únicamente en 'is_recid' estaríamos cometiendo un error del 27.25%\n",
    "\n",
    "De los 6014 'peligrosos', 2961 tienen 'is_recid' = 0. Los 1458 restantes tienen 'is_recid' = 1. Es decir, si nos fijamos \n",
    "únicamente en 'is_recid' estaríamos cometiendo un error del 49.24%\n",
    "\n",
    "Nuestra tasa de acierto, en definitiva, es del 66.85%\n",
    "\n",
    "Esta tasa es bajísima."
   ]
  },
  {
   "cell_type": "markdown",
   "id": "ec5d9d89",
   "metadata": {},
   "source": [
    "----------------------------------------\n",
    "Vamos a aplicar un modelo de regresión para mejorar la predicción."
   ]
  },
  {
   "cell_type": "code",
   "execution_count": 28,
   "id": "2322575e",
   "metadata": {},
   "outputs": [],
   "source": [
    "# para generar un modelo de regresión lineal es necesario aplicar la librería statsmodels\n",
    "# # https://www.efavdb.com/interpret-linear-regression\n",
    "\n",
    "# !pip install statsmodels\n",
    "from statsmodels.formula.api import ols"
   ]
  },
  {
   "cell_type": "code",
   "execution_count": 29,
   "id": "ca390315",
   "metadata": {},
   "outputs": [
    {
     "name": "stdout",
     "output_type": "stream",
     "text": [
      "                            OLS Regression Results                            \n",
      "==============================================================================\n",
      "Dep. Variable:           decile_score   R-squared:                       0.629\n",
      "Model:                            OLS   Adj. R-squared:                  0.629\n",
      "Method:                 Least Squares   F-statistic:                     1870.\n",
      "Date:                Wed, 27 Nov 2024   Prob (F-statistic):               0.00\n",
      "Time:                        21:38:31   Log-Likelihood:                -21815.\n",
      "No. Observations:               11027   AIC:                         4.365e+04\n",
      "Df Residuals:                   11016   BIC:                         4.373e+04\n",
      "Df Model:                          10                                         \n",
      "Covariance Type:            nonrobust                                         \n",
      "==============================================================================================\n",
      "                                 coef    std err          t      P>|t|      [0.025      0.975]\n",
      "----------------------------------------------------------------------------------------------\n",
      "Intercept                      0.7308      0.088      8.311      0.000       0.558       0.903\n",
      "C(sex)[T.Male]                -0.4079      0.042     -9.714      0.000      -0.490      -0.326\n",
      "C(race)[T.Asian]              -0.7012      0.242     -2.896      0.004      -1.176      -0.227\n",
      "C(race)[T.Caucasian]          -0.4174      0.038    -10.877      0.000      -0.493      -0.342\n",
      "C(race)[T.Hispanic]           -0.7529      0.061    -12.371      0.000      -0.872      -0.634\n",
      "C(race)[T.Native American]    -0.1159      0.293     -0.396      0.692      -0.690       0.458\n",
      "C(race)[T.Other]              -0.9891      0.075    -13.153      0.000      -1.137      -0.842\n",
      "C(is_recid)[T.1]               0.5849      0.040     14.704      0.000       0.507       0.663\n",
      "C(is_violent_recid)[T.1]      -0.0739      0.068     -1.091      0.275      -0.207       0.059\n",
      "age                            0.0239      0.002     14.059      0.000       0.021       0.027\n",
      "v_decile_score                 0.9028      0.009    105.540      0.000       0.886       0.920\n",
      "==============================================================================\n",
      "Omnibus:                      888.659   Durbin-Watson:                   1.978\n",
      "Prob(Omnibus):                  0.000   Jarque-Bera (JB):             1118.954\n",
      "Skew:                           0.747   Prob(JB):                    1.05e-243\n",
      "Kurtosis:                       3.452   Cond. No.                         653.\n",
      "==============================================================================\n",
      "\n",
      "Notes:\n",
      "[1] Standard Errors assume that the covariance matrix of the errors is correctly specified.\n"
     ]
    }
   ],
   "source": [
    "fit_decile_score = ols('decile_score ~ age + C(sex) + C(race) + C(is_recid) + C(is_violent_recid) + v_decile_score', data=df).fit() # hay que escribir C() si la variable es categórica\n",
    "\n",
    "print(fit_decile_score.summary())"
   ]
  },
  {
   "cell_type": "markdown",
   "id": "54b3d145",
   "metadata": {},
   "source": [
    "En base a los conocimientos adquiridos en la asignatura de \"Estadística para científicos de datos\" :\n",
    "- Multiple R-squared y Adj R-squared. Indican los valores de explicación de la variable objetivo que se consiguen en el modelo. Valores próximos a 0 apuntan a un modelo pobre y valores próximos a 1, a un buen modelo.\n",
    "- Los coeficinetes la relevancia de las variables, cuanto mayores son, más relevantes son para la predicción.\n",
    "\n",
    "Con esto aclaramos que el modelo aún es algo pobre y las variable más relevante es v_decile_score."
   ]
  },
  {
   "cell_type": "markdown",
   "id": "6e8b3ee3",
   "metadata": {},
   "source": [
    "## 3.El umbral para establecer medidas preventivas de la reincidencia es de 7 en adelante. Dado este umbral, generar una tabla de contingencia, explicando qué caso se considera como “positivo” (y, por lo tanto, cuáles son los errores de tipo I y los errores de tipo II)."
   ]
  },
  {
   "cell_type": "code",
   "execution_count": 30,
   "id": "642623a4",
   "metadata": {},
   "outputs": [],
   "source": [
    "# Aplicando la mejora (feauture) que habíamos creado en el apartado anterior\n",
    "prediction = fit_decile_score.predict(df) "
   ]
  },
  {
   "cell_type": "code",
   "execution_count": 31,
   "id": "a060544c",
   "metadata": {},
   "outputs": [
    {
     "data": {
      "text/html": [
       "<div>\n",
       "<style scoped>\n",
       "    .dataframe tbody tr th:only-of-type {\n",
       "        vertical-align: middle;\n",
       "    }\n",
       "\n",
       "    .dataframe tbody tr th {\n",
       "        vertical-align: top;\n",
       "    }\n",
       "\n",
       "    .dataframe thead th {\n",
       "        text-align: right;\n",
       "    }\n",
       "</style>\n",
       "<table border=\"1\" class=\"dataframe\">\n",
       "  <thead>\n",
       "    <tr style=\"text-align: right;\">\n",
       "      <th>real</th>\n",
       "      <th>False</th>\n",
       "      <th>True</th>\n",
       "    </tr>\n",
       "    <tr>\n",
       "      <th>prediction</th>\n",
       "      <th></th>\n",
       "      <th></th>\n",
       "    </tr>\n",
       "  </thead>\n",
       "  <tbody>\n",
       "    <tr>\n",
       "      <th>False</th>\n",
       "      <td>7767</td>\n",
       "      <td>1513</td>\n",
       "    </tr>\n",
       "    <tr>\n",
       "      <th>True</th>\n",
       "      <td>299</td>\n",
       "      <td>1448</td>\n",
       "    </tr>\n",
       "  </tbody>\n",
       "</table>\n",
       "</div>"
      ],
      "text/plain": [
       "real        False  True \n",
       "prediction              \n",
       "False        7767   1513\n",
       "True          299   1448"
      ]
     },
     "execution_count": 31,
     "metadata": {},
     "output_type": "execute_result"
    }
   ],
   "source": [
    "# generamos la tabla de contingencia, comparando los casos en los que se predice \n",
    "# un valor mayor que 7, con aquellos en los que realmente es mayor que 7\n",
    "cm = pd.crosstab(prediction>=7, df.decile_score>=7, rownames=['prediction'], colnames=['real'])\n",
    "cm"
   ]
  },
  {
   "cell_type": "code",
   "execution_count": 32,
   "id": "54b5d0ef",
   "metadata": {},
   "outputs": [
    {
     "name": "stdout",
     "output_type": "stream",
     "text": [
      "Accuracy:  0.8356760678334996\n",
      "PPV:  0.8288494562106469\n",
      "FPR:  0.037069179271014135\n",
      "FNR:  0.5109760216143195\n",
      "\n"
     ]
    }
   ],
   "source": [
    "TN = cm[False][False]   \n",
    "TP = cm[True][True]\n",
    "FN = cm[True][False]\n",
    "FP = cm[False][True]\n",
    "\n",
    "print('Accuracy: ', (TN+TP)/(TN+TP+FN+FP))\n",
    "print('PPV: ', TP / (TP + FP))\n",
    "print('FPR: ', FP / (FP + TN))\n",
    "print('FNR: ', FN / (FN + TP))\n",
    "print()"
   ]
  },
  {
   "cell_type": "markdown",
   "id": "87a2508c",
   "metadata": {},
   "source": [
    "Como vemos, hemos mejorado con la feature los resultados"
   ]
  },
  {
   "cell_type": "code",
   "execution_count": 33,
   "id": "e62666be",
   "metadata": {},
   "outputs": [
    {
     "name": "stdout",
     "output_type": "stream",
     "text": [
      "              precision    recall  f1-score   support\n",
      "\n",
      "       False       0.84      0.96      0.90      8066\n",
      "        True       0.83      0.49      0.62      2961\n",
      "\n",
      "    accuracy                           0.84     11027\n",
      "   macro avg       0.83      0.73      0.76     11027\n",
      "weighted avg       0.83      0.84      0.82     11027\n",
      "\n"
     ]
    }
   ],
   "source": [
    "# A continuación se muestra un resumen más detallado:\n",
    "\n",
    "from sklearn.metrics import classification_report\n",
    "\n",
    "print(classification_report(df.decile_score>=7, prediction>=7))"
   ]
  },
  {
   "cell_type": "markdown",
   "id": "dcb2c2f3",
   "metadata": {},
   "source": [
    "## 4.El sistema asigna, de media, evaluaciones de riesgo más altas a los hombres que a las mujeres, y a las personas de raza afroamericana que a las de raza caucásica. Sin embargo, también las tasas de reincidencia son más altas para esos colectivos, aunque no está claro que la asignación de riesgo sea “justa” o no. Mostrar estas diferencias mediante representaciones gráficas y utilizarlas para analizar si la asignación de evaluaciones es justa o no."
   ]
  },
  {
   "cell_type": "markdown",
   "id": "024d58a2",
   "metadata": {},
   "source": [
    "Distribucción de la calificación del riesgo por razas"
   ]
  },
  {
   "cell_type": "code",
   "execution_count": 34,
   "id": "088c5a3d",
   "metadata": {},
   "outputs": [],
   "source": [
    "import matplotlib.pyplot as plt"
   ]
  },
  {
   "cell_type": "code",
   "execution_count": 41,
   "id": "fc9f7a8f",
   "metadata": {},
   "outputs": [
    {
     "data": {
      "text/plain": [
       "race\n",
       "African-American    5498\n",
       "Asian                 53\n",
       "Caucasian           3811\n",
       "Hispanic            1009\n",
       "Native American       36\n",
       "Other                620\n",
       "Name: name, dtype: int64"
      ]
     },
     "execution_count": 41,
     "metadata": {},
     "output_type": "execute_result"
    }
   ],
   "source": [
    "df.groupby(\"race\", observed=True)[\"name\"].count()"
   ]
  },
  {
   "cell_type": "code",
   "execution_count": 43,
   "id": "22857454",
   "metadata": {},
   "outputs": [
    {
     "data": {
      "image/png": "[encoded data removed]",
      "text/plain": [
       "<Figure size 1400x800 with 2 Axes>"
      ]
     },
     "metadata": {},
     "output_type": "display_data"
    }
   ],
   "source": [
    "# Asegúrate de usar observed=False para evitar la advertencia de pandas\n",
    "dfgb = df.groupby(\"race\", observed=False)\n",
    "race_count = df.groupby(\"race\", observed=False)[\"name\"].count()\n",
    "\n",
    "# Crear el gráfico con dos subgráficas\n",
    "fig, ax = plt.subplots(2, figsize=(14, 8))\n",
    "\n",
    "# Iterar sobre las razas para graficar\n",
    "for i, race in enumerate([\"African-American\", \"Caucasian\"]):\n",
    "    # Filtrar los datos para la raza específica y calcular la distribución del 'decile_score'\n",
    "    race_group = dfgb.get_group(race).groupby(\"decile_score\")[\"name\"].count() / race_count[race]\n",
    "    \n",
    "    # Graficar la distribución en barras\n",
    "    race_group.plot(kind=\"bar\", ax=ax[i], color=\"#8447FF\", width=0.8, edgecolor=\"black\")\n",
    "    \n",
    "    # Establecer etiquetas y límites\n",
    "    ax[i].set_ylabel(\"Frecuencia relativa\")\n",
    "    ax[i].set_xlabel(\"Decile Score\")\n",
    "    ax[i].set_ylim(0, 0.30)\n",
    "    ax[i].set_title(f\"Distribución de la calificación del riesgo: {race}\")\n",
    "    \n",
    "# Título general para el gráfico\n",
    "fig.suptitle(\"Distribución de la calificación del riesgo en las razas Africana y Caucásica\")\n",
    "\n",
    "# Ajustar la disposición y mostrar el gráfico\n",
    "plt.tight_layout()\n",
    "plt.show()\n"
   ]
  },
  {
   "cell_type": "markdown",
   "id": "8e26a9b8",
   "metadata": {},
   "source": [
    "- La raza Africana tienen una tasa de delitos prácticamente idéntica para todas las calificaciones. Luego, dicha raza es impredecible.\n",
    "- La raza Caucásica sigue una distribución logarítimica. Dandose la mayoría de los casos en las calificaciones más bajas."
   ]
  },
  {
   "cell_type": "markdown",
   "id": "f33e0437",
   "metadata": {},
   "source": [
    "Distribución de la calificación del riesgo por sexo"
   ]
  },
  {
   "cell_type": "code",
   "execution_count": 44,
   "id": "2c5f15b1",
   "metadata": {},
   "outputs": [
    {
     "data": {
      "image/png": "[encoded data removed]",
      "text/plain": [
       "<Figure size 1400x800 with 2 Axes>"
      ]
     },
     "metadata": {},
     "output_type": "display_data"
    }
   ],
   "source": [
    "# Agrupamos por 'sex' y calculamos la cantidad de 'name' para cada grupo\n",
    "dfgb = df.groupby(\"sex\", observed=False)\n",
    "sex_count = df.groupby(\"sex\", observed=False)[\"name\"].count()\n",
    "\n",
    "# Crear el gráfico con dos subgráficas\n",
    "fig, ax = plt.subplots(2, figsize=(14, 8))\n",
    "\n",
    "# Iterar sobre los sexos para graficar\n",
    "for i, sex in enumerate([\"Male\", \"Female\"]):\n",
    "    # Filtrar los datos para el sexo específico y calcular la distribución del 'decile_score'\n",
    "    sex_group = dfgb.get_group(sex).groupby(\"decile_score\")[\"name\"].count() / sex_count[sex]\n",
    "    \n",
    "    # Graficar la distribución en barras\n",
    "    sex_group.plot(kind=\"bar\", ax=ax[i], color=\"#0CAE7B\", width=0.8, edgecolor=\"black\")\n",
    "    \n",
    "    # Establecer etiquetas y límites\n",
    "    ax[i].set_ylabel(\"Frecuencia relativa\")\n",
    "    ax[i].set_xlabel(\"Decile Score\")\n",
    "    ax[i].set_ylim(0, 0.30)  # Establecer un rango adecuado para la frecuencia relativa\n",
    "    ax[i].set_title(f\"Distribución del riesgo: {sex}\")\n",
    "    \n",
    "# Título general para el gráfico\n",
    "fig.suptitle(\"Distribución de la calificación del riesgo por sexo\")\n",
    "\n",
    "# Ajustar la disposición y mostrar el gráfico\n",
    "plt.tight_layout()\n",
    "plt.show()\n"
   ]
  },
  {
   "cell_type": "markdown",
   "id": "4c7c2dab",
   "metadata": {},
   "source": [
    "- Ambas gráficas tienen una tendencia logarítmica. Luego, la mayor parte de delitos son leves.\n",
    "- Observamos con claridad que los hombres son más propensos a cometer crímenes que las mujeres. Esto lo podemos ver en el órden de los valores del eje Y."
   ]
  },
  {
   "cell_type": "markdown",
   "id": "6e9f016a",
   "metadata": {},
   "source": [
    "## 5.¿Para qué tipo de riesgos, el de delitos generales o el de delitos violentos, tiene el sistema más capacidad predictiva?"
   ]
  },
  {
   "cell_type": "markdown",
   "id": "1d21e369",
   "metadata": {},
   "source": [
    "En el apartado 2, ya habíamos creado el modelo para delitos generales. De la misma manera generamos el modelo para delitos violentos.\n",
    "En el apartado 3 habíamos evaluado el modelo. De la misma manera generamos la evaluación para delitos violentos y comparamos sus capacidades predictivas."
   ]
  },
  {
   "cell_type": "code",
   "execution_count": 38,
   "id": "8bd341be",
   "metadata": {},
   "outputs": [
    {
     "name": "stdout",
     "output_type": "stream",
     "text": [
      "                            OLS Regression Results                            \n",
      "==============================================================================\n",
      "Dep. Variable:         v_decile_score   R-squared:                       0.699\n",
      "Model:                            OLS   Adj. R-squared:                  0.698\n",
      "Method:                 Least Squares   F-statistic:                     2555.\n",
      "Date:                Wed, 27 Nov 2024   Prob (F-statistic):               0.00\n",
      "Time:                        21:38:35   Log-Likelihood:                -19151.\n",
      "No. Observations:               11027   AIC:                         3.832e+04\n",
      "Df Residuals:                   11016   BIC:                         3.840e+04\n",
      "Df Model:                          10                                         \n",
      "Covariance Type:            nonrobust                                         \n",
      "==============================================================================================\n",
      "                                 coef    std err          t      P>|t|      [0.025      0.975]\n",
      "----------------------------------------------------------------------------------------------\n",
      "Intercept                      3.0870      0.063     49.219      0.000       2.964       3.210\n",
      "C(sex)[T.Male]                 0.5760      0.033     17.637      0.000       0.512       0.640\n",
      "C(race)[T.Asian]              -0.3594      0.190     -1.890      0.059      -0.732       0.013\n",
      "C(race)[T.Caucasian]          -0.1865      0.030     -6.168      0.000      -0.246      -0.127\n",
      "C(race)[T.Hispanic]           -0.0825      0.048     -1.713      0.087      -0.177       0.012\n",
      "C(race)[T.Native American]    -0.1224      0.230     -0.532      0.595      -0.573       0.328\n",
      "C(race)[T.Other]              -0.0808      0.060     -1.358      0.175      -0.197       0.036\n",
      "C(is_recid)[T.1]              -0.0222      0.032     -0.704      0.482      -0.084       0.040\n",
      "C(is_violent_recid)[T.1]       0.2609      0.053      4.912      0.000       0.157       0.365\n",
      "age                           -0.0667      0.001    -56.065      0.000      -0.069      -0.064\n",
      "decile_score                   0.5569      0.005    105.540      0.000       0.547       0.567\n",
      "==============================================================================\n",
      "Omnibus:                      127.763   Durbin-Watson:                   2.012\n",
      "Prob(Omnibus):                  0.000   Jarque-Bera (JB):              180.193\n",
      "Skew:                           0.146   Prob(JB):                     7.44e-40\n",
      "Kurtosis:                       3.554   Cond. No.                         655.\n",
      "==============================================================================\n",
      "\n",
      "Notes:\n",
      "[1] Standard Errors assume that the covariance matrix of the errors is correctly specified.\n"
     ]
    }
   ],
   "source": [
    "fit_v_decile_score = ols('v_decile_score ~ age + C(sex) + C(race) + C(is_recid) + C(is_violent_recid) + decile_score', data=df).fit() # hay que escribir C() si la variable es categórica\n",
    "\n",
    "print(fit_v_decile_score.summary())"
   ]
  },
  {
   "cell_type": "code",
   "execution_count": 39,
   "id": "57a4f9c3",
   "metadata": {},
   "outputs": [
    {
     "data": {
      "text/html": [
       "<div>\n",
       "<style scoped>\n",
       "    .dataframe tbody tr th:only-of-type {\n",
       "        vertical-align: middle;\n",
       "    }\n",
       "\n",
       "    .dataframe tbody tr th {\n",
       "        vertical-align: top;\n",
       "    }\n",
       "\n",
       "    .dataframe thead th {\n",
       "        text-align: right;\n",
       "    }\n",
       "</style>\n",
       "<table border=\"1\" class=\"dataframe\">\n",
       "  <thead>\n",
       "    <tr style=\"text-align: right;\">\n",
       "      <th>real</th>\n",
       "      <th>False</th>\n",
       "      <th>True</th>\n",
       "    </tr>\n",
       "    <tr>\n",
       "      <th>prediction</th>\n",
       "      <th></th>\n",
       "      <th></th>\n",
       "    </tr>\n",
       "  </thead>\n",
       "  <tbody>\n",
       "    <tr>\n",
       "      <th>False</th>\n",
       "      <td>9219</td>\n",
       "      <td>1164</td>\n",
       "    </tr>\n",
       "    <tr>\n",
       "      <th>True</th>\n",
       "      <td>100</td>\n",
       "      <td>544</td>\n",
       "    </tr>\n",
       "  </tbody>\n",
       "</table>\n",
       "</div>"
      ],
      "text/plain": [
       "real        False  True \n",
       "prediction              \n",
       "False        9219   1164\n",
       "True          100    544"
      ]
     },
     "execution_count": 39,
     "metadata": {},
     "output_type": "execute_result"
    }
   ],
   "source": [
    "prediction = fit_v_decile_score.predict(df) \n",
    "\n",
    "# generamos la tabla de contingencia, comparando los casos en los que se predice \n",
    "# un valor mayor que 7, con aquellos en los que realmente es mayor que 7\n",
    "cm = pd.crosstab(prediction>=7, df.v_decile_score>=7, rownames=['prediction'], colnames=['real'])\n",
    "cm"
   ]
  },
  {
   "cell_type": "code",
   "execution_count": 40,
   "id": "2c1661f6",
   "metadata": {},
   "outputs": [
    {
     "name": "stdout",
     "output_type": "stream",
     "text": [
      "Accuracy:  0.8853722680692845\n",
      "PPV:  0.84472049689441\n",
      "FPR:  0.010730765103551884\n",
      "FNR:  0.6814988290398126\n",
      "\n",
      "              precision    recall  f1-score   support\n",
      "\n",
      "       False       0.89      0.99      0.94      9319\n",
      "        True       0.84      0.32      0.46      1708\n",
      "\n",
      "    accuracy                           0.89     11027\n",
      "   macro avg       0.87      0.65      0.70     11027\n",
      "weighted avg       0.88      0.89      0.86     11027\n",
      "\n"
     ]
    }
   ],
   "source": [
    "TN = cm[False][False]   \n",
    "TP = cm[True][True]\n",
    "FN = cm[True][False]\n",
    "FP = cm[False][True]\n",
    "\n",
    "print('Accuracy: ', (TN+TP)/(TN+TP+FN+FP))\n",
    "print('PPV: ', TP / (TP + FP))\n",
    "print('FPR: ', FP / (FP + TN))\n",
    "print('FNR: ', FN / (FN + TP))\n",
    "print()\n",
    "# A continuación se muestra un resumen más detallado:\n",
    "\n",
    "print(classification_report(df.v_decile_score>=7, prediction>=7))"
   ]
  },
  {
   "cell_type": "markdown",
   "id": "fc9b156b",
   "metadata": {},
   "source": [
    "Como podemos observar, la predicción de la variable v_decile_score es levemente mejor con un 88.54% de precisión de acierto.\n"
   ]
  }
 ],
 "metadata": {
  "kernelspec": {
   "display_name": "Python 3 (ipykernel)",
   "language": "python",
   "name": "python3"
  },
  "language_info": {
   "codemirror_mode": {
    "name": "ipython",
    "version": 3
   },
   "file_extension": ".py",
   "mimetype": "text/x-python",
   "name": "python",
   "nbconvert_exporter": "python",
   "pygments_lexer": "ipython3",
   "version": "3.11.7"
  }
 },
 "nbformat": 4,
 "nbformat_minor": 5
}
